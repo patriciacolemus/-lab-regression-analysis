{
  "cells": [
    {
      "cell_type": "markdown",
      "metadata": {
        "id": "yl5GxD_KbmX7"
      },
      "source": [
        "# Lab: Regression Analysis"
      ]
    },
    {
      "cell_type": "markdown",
      "metadata": {
        "id": "CxAdKgd4bmX9"
      },
      "source": [
        "### Before you start:\n",
        "\n",
        "* Read the README.md file\n",
        "* Comment as much as you can and use the resources (README.md file) \n",
        "\n",
        "Happy learning!"
      ]
    },
    {
      "cell_type": "markdown",
      "metadata": {
        "id": "MnnqtTYEbmX-"
      },
      "source": [
        "## Challenge 1\n",
        "I work at a coding bootcamp, and I have developed a theory that the younger my students are, the more often they are late to class. In order to test my hypothesis, I have collected some data in the following table:\n",
        "\n",
        "| StudentID | Age | Tardies |\n",
        "|--------|-----|------------|\n",
        "| 1      | 17  | 10         |\n",
        "| 2      | 51  | 1          |\n",
        "| 3      | 27  | 5          |\n",
        "| 4      | 21  | 9         |\n",
        "| 5      | 36  |  4         |\n",
        "| 6      | 48  |  2         |\n",
        "| 7      | 19  |  9         |\n",
        "| 8      | 26  | 6          |\n",
        "| 9      | 54  |  0         |\n",
        "| 10     | 30  |  3         |"
      ]
    },
    {
      "cell_type": "code",
      "source": [
        "# Libraries\n",
        "import numpy as np\n",
        "import pandas as pd\n",
        "import seaborn as sns\n",
        "import matplotlib.pyplot as plt\n",
        "\n",
        "import statsmodels.api as sm\n",
        "from statsmodels.formula.api import ols"
      ],
      "metadata": {
        "colab": {
          "base_uri": "https://localhost:8080/"
        },
        "id": "NY0-9pvGb5nX",
        "outputId": "14b05c6e-3065-40a3-dd24-1c57c27f9531"
      },
      "execution_count": 12,
      "outputs": [
        {
          "output_type": "stream",
          "name": "stderr",
          "text": [
            "/usr/local/lib/python3.7/dist-packages/statsmodels/tools/_testing.py:19: FutureWarning: pandas.util.testing is deprecated. Use the functions in the public API at pandas.testing instead.\n",
            "  import pandas.util.testing as tm\n"
          ]
        }
      ]
    },
    {
      "cell_type": "markdown",
      "metadata": {
        "id": "pLM2qrXXbmX-"
      },
      "source": [
        "Use this command to create a dataframe with the data provided in the table. \n",
        "~~~~\n",
        "student_data = pd.DataFrame({'X': [x_values], 'Y': [y_values]})\n",
        "~~~~"
      ]
    },
    {
      "cell_type": "code",
      "execution_count": 7,
      "metadata": {
        "id": "5zdM-F7lbmX-"
      },
      "outputs": [],
      "source": [
        "# Your code here. \n",
        "x = [17, 51, 27, 21, 36, 48, 19, 26, 54, 30]\n",
        "y= [10, 1, 5, 9, 4, 2, 9, 6, 0, 3]\n",
        "\n",
        "student_data = pd.DataFrame({'X': x, 'Y': y})"
      ]
    },
    {
      "cell_type": "markdown",
      "metadata": {
        "id": "BVloiNJabmX_"
      },
      "source": [
        "Draw a dispersion diagram (scatter plot) for the data."
      ]
    },
    {
      "cell_type": "code",
      "execution_count": 8,
      "metadata": {
        "colab": {
          "base_uri": "https://localhost:8080/",
          "height": 281
        },
        "id": "W3QI29XPbmX_",
        "outputId": "853f76c3-f35b-41bf-90c0-4ced0f5bdad1"
      },
      "outputs": [
        {
          "output_type": "display_data",
          "data": {
            "image/png": "[encoded data removed]",
            "text/plain": [
              "<Figure size 432x288 with 1 Axes>"
            ]
          },
          "metadata": {
            "needs_background": "light"
          }
        }
      ],
      "source": [
        "# Your code here.\n",
        "plt.scatter(student_data.X, student_data.Y)\n",
        "plt.title('Tardies vs. Age')\n",
        "plt.show()"
      ]
    },
    {
      "cell_type": "markdown",
      "metadata": {
        "id": "1R0mZZgcbmYA"
      },
      "source": [
        "Do you see a trend? Can you make any hypotheses about the relationship between age and number of tardies?"
      ]
    },
    {
      "cell_type": "code",
      "execution_count": null,
      "metadata": {
        "id": "x5K2z7HhbmYA"
      },
      "outputs": [],
      "source": [
        "# Your response here. \n",
        "# Yes, as studetns get older they have less tardies. "
      ]
    },
    {
      "cell_type": "markdown",
      "metadata": {
        "id": "gDmgAM8zbmYB"
      },
      "source": [
        "Calculate the covariance and correlation of the variables in your plot. What is the difference between these two measures? Compare their values. What do they tell you in this case? Add your responses as comments after your code."
      ]
    },
    {
      "cell_type": "code",
      "execution_count": 10,
      "metadata": {
        "colab": {
          "base_uri": "https://localhost:8080/"
        },
        "id": "iNz7gcAzbmYB",
        "outputId": "9e3dbfe0-d94b-4a75-c60a-f488ec1d14dd"
      },
      "outputs": [
        {
          "output_type": "stream",
          "name": "stdout",
          "text": [
            "covariance: [[187.65555556 -45.56666667]\n",
            " [-45.56666667  12.54444444]]\n",
            "correlation: -0.9391626886887122\n"
          ]
        }
      ],
      "source": [
        "# Your response here.\n",
        "cov = np.cov(student_data.X, student_data.Y)\n",
        "corr = student_data.X.corr(student_data.Y)\n",
        "print('covariance:', cov)\n",
        "print('correlation:', corr)"
      ]
    },
    {
      "cell_type": "markdown",
      "metadata": {
        "id": "cQKhd9XbbmYB"
      },
      "source": [
        "Build a regression model for this data. What will be your outcome variable? What type of regression are you using? Add your responses as comments after your code."
      ]
    },
    {
      "cell_type": "code",
      "execution_count": 14,
      "metadata": {
        "colab": {
          "base_uri": "https://localhost:8080/"
        },
        "id": "kEqKT0bvbmYB",
        "outputId": "1f1cb3f1-ea97-451d-a710-1b84967c2806"
      },
      "outputs": [
        {
          "output_type": "stream",
          "name": "stdout",
          "text": [
            "                            OLS Regression Results                            \n",
            "==============================================================================\n",
            "Dep. Variable:                      Y   R-squared:                       0.882\n",
            "Model:                            OLS   Adj. R-squared:                  0.867\n",
            "Method:                 Least Squares   F-statistic:                     59.81\n",
            "Date:                Mon, 14 Feb 2022   Prob (F-statistic):           5.57e-05\n",
            "Time:                        04:20:41   Log-Likelihood:                -15.622\n",
            "No. Observations:                  10   AIC:                             35.24\n",
            "Df Residuals:                       8   BIC:                             35.85\n",
            "Df Model:                           1                                         \n",
            "Covariance Type:            nonrobust                                         \n",
            "==============================================================================\n",
            "                 coef    std err          t      P>|t|      [0.025      0.975]\n",
            "------------------------------------------------------------------------------\n",
            "const         12.8888      1.111     11.605      0.000      10.328      15.450\n",
            "X             -0.2428      0.031     -7.734      0.000      -0.315      -0.170\n",
            "==============================================================================\n",
            "Omnibus:                        3.949   Durbin-Watson:                   1.754\n",
            "Prob(Omnibus):                  0.139   Jarque-Bera (JB):                1.714\n",
            "Skew:                          -1.014   Prob(JB):                        0.424\n",
            "Kurtosis:                       3.069   Cond. No.                         96.4\n",
            "==============================================================================\n",
            "\n",
            "Warnings:\n",
            "[1] Standard Errors assume that the covariance matrix of the errors is correctly specified.\n"
          ]
        },
        {
          "output_type": "stream",
          "name": "stderr",
          "text": [
            "/usr/local/lib/python3.7/dist-packages/statsmodels/tsa/tsatools.py:117: FutureWarning: In a future version of pandas all arguments of concat except for the argument 'objs' will be keyword-only\n",
            "  x = pd.concat(x[::order], 1)\n",
            "/usr/local/lib/python3.7/dist-packages/scipy/stats/stats.py:1535: UserWarning: kurtosistest only valid for n>=20 ... continuing anyway, n=10\n",
            "  \"anyway, n=%i\" % int(n))\n"
          ]
        }
      ],
      "source": [
        "# Your response here.\n",
        "X = sm.add_constant(student_data.X)\n",
        "Y = student_data.Y\n",
        "\n",
        "model = sm.OLS(Y, X).fit()\n",
        "print(model.summary())"
      ]
    },
    {
      "cell_type": "markdown",
      "metadata": {
        "id": "G7hZtqc3bmYC"
      },
      "source": [
        "Plot your regression model on your scatter plot."
      ]
    },
    {
      "cell_type": "code",
      "execution_count": 16,
      "metadata": {
        "colab": {
          "base_uri": "https://localhost:8080/",
          "height": 424
        },
        "id": "6Fo5VaFKbmYC",
        "outputId": "2f947105-880e-4727-ddb1-5f2074f45be6"
      },
      "outputs": [
        {
          "output_type": "stream",
          "name": "stderr",
          "text": [
            "/usr/local/lib/python3.7/dist-packages/seaborn/_decorators.py:43: FutureWarning: Pass the following variables as keyword args: x, y. From version 0.12, the only valid positional argument will be `data`, and passing other arguments without an explicit keyword will result in an error or misinterpretation.\n",
            "  FutureWarning\n"
          ]
        },
        {
          "output_type": "display_data",
          "data": {
            "image/png": "[encoded data removed]",
            "text/plain": [
              "<Figure size 360x360 with 1 Axes>"
            ]
          },
          "metadata": {
            "needs_background": "light"
          }
        }
      ],
      "source": [
        "# Your code here.\n",
        "sns.lmplot('X', 'Y', data=student_data);"
      ]
    },
    {
      "cell_type": "markdown",
      "metadata": {
        "id": "eNZJUO29bmYC"
      },
      "source": [
        "Interpret the results of your model. What can conclusions can you draw from your model and how confident in these conclusions are you? Can we say that age is a good predictor of tardiness? Add your responses as comments after your code."
      ]
    },
    {
      "cell_type": "code",
      "execution_count": null,
      "metadata": {
        "id": "FIHqFePvbmYC"
      },
      "outputs": [],
      "source": [
        "# Your response here. \n",
        "# There is a strong negative correlation between the age and the number of tardies. \n",
        "# With the data analysed we can conclude age can predic aroung 88% of the number of tardies. "
      ]
    },
    {
      "cell_type": "markdown",
      "metadata": {
        "id": "as4ftn_KbmYC"
      },
      "source": [
        "## Challenge 2\n",
        "For the second part of this lab, we will use the vehicles.csv data set. You can find a copy of the dataset in the git hub folder. This dataset includes variables related to vehicle characteristics, including the model, make, and energy efficiency standards, as well as each car's CO2 emissions. As discussed in class the goal of this exercise is to predict vehicles' CO2 emissions based on several independent variables. "
      ]
    },
    {
      "cell_type": "code",
      "execution_count": 20,
      "metadata": {
        "id": "VhYCFMGAbmYC"
      },
      "outputs": [],
      "source": [
        "# Import any libraries you may need & the data\n",
        "import pandas as pd\n",
        "\n",
        "from google.colab import drive\n",
        "drive.mount('/content/drive')\n",
        "\n",
        "co2 = pd.read_csv('/content/drive/MyDrive/Ironhack/Laboratorios/02 Módulo 2/-lab-regression-analysis/vehicles.csv')"
      ]
    },
    {
      "cell_type": "code",
      "source": [
        ""
      ],
      "metadata": {
        "colab": {
          "base_uri": "https://localhost:8080/"
        },
        "id": "8SzZ98nQfPAu",
        "outputId": "18a2b8db-0dc6-4791-b561-bde41dee65f2"
      },
      "execution_count": 17,
      "outputs": [
        {
          "output_type": "stream",
          "name": "stdout",
          "text": [
            "Mounted at /content/drive\n"
          ]
        }
      ]
    },
    {
      "cell_type": "markdown",
      "metadata": {
        "id": "AlFNXYYobmYD"
      },
      "source": [
        "Let's use the following variables for our analysis: Year, Cylinders, Fuel Barrels/Year, Combined MPG, and Fuel Cost/Year. We will use 'CO2 Emission Grams/Mile' as our outcome variable. \n",
        "\n",
        "Calculate the correlations between each of these variables and the outcome. Which variable do you think will be the most important in determining CO2 emissions? Which provides the least amount of helpful information for determining CO2 emissions? Add your responses as comments after your code."
      ]
    },
    {
      "cell_type": "code",
      "execution_count": 25,
      "metadata": {
        "colab": {
          "base_uri": "https://localhost:8080/",
          "height": 237
        },
        "id": "hKrsWRn3bmYD",
        "outputId": "6075ef04-f731-44b9-ee20-b3c4588d6684"
      },
      "outputs": [
        {
          "output_type": "execute_result",
          "data": {
            "text/html": [
              "\n",
              "  <div id=\"df-384179bd-9e0f-49bf-aefe-9b93ec3bcf67\">\n",
              "    <div class=\"colab-df-container\">\n",
              "      <div>\n",
              "<style scoped>\n",
              "    .dataframe tbody tr th:only-of-type {\n",
              "        vertical-align: middle;\n",
              "    }\n",
              "\n",
              "    .dataframe tbody tr th {\n",
              "        vertical-align: top;\n",
              "    }\n",
              "\n",
              "    .dataframe thead th {\n",
              "        text-align: right;\n",
              "    }\n",
              "</style>\n",
              "<table border=\"1\" class=\"dataframe\">\n",
              "  <thead>\n",
              "    <tr style=\"text-align: right;\">\n",
              "      <th></th>\n",
              "      <th>Year</th>\n",
              "      <th>Cylinders</th>\n",
              "      <th>Fuel Barrels/Year</th>\n",
              "      <th>Combined MPG</th>\n",
              "      <th>Fuel Cost/Year</th>\n",
              "      <th>CO2 Emission Grams/Mile</th>\n",
              "    </tr>\n",
              "  </thead>\n",
              "  <tbody>\n",
              "    <tr>\n",
              "      <th>Year</th>\n",
              "      <td>1.000000</td>\n",
              "      <td>0.082469</td>\n",
              "      <td>-0.221084</td>\n",
              "      <td>0.204751</td>\n",
              "      <td>-0.091913</td>\n",
              "      <td>-0.222300</td>\n",
              "    </tr>\n",
              "    <tr>\n",
              "      <th>Cylinders</th>\n",
              "      <td>0.082469</td>\n",
              "      <td>1.000000</td>\n",
              "      <td>0.739517</td>\n",
              "      <td>-0.698648</td>\n",
              "      <td>0.778153</td>\n",
              "      <td>0.752393</td>\n",
              "    </tr>\n",
              "    <tr>\n",
              "      <th>Fuel Barrels/Year</th>\n",
              "      <td>-0.221084</td>\n",
              "      <td>0.739517</td>\n",
              "      <td>1.000000</td>\n",
              "      <td>-0.909743</td>\n",
              "      <td>0.916208</td>\n",
              "      <td>0.986189</td>\n",
              "    </tr>\n",
              "    <tr>\n",
              "      <th>Combined MPG</th>\n",
              "      <td>0.204751</td>\n",
              "      <td>-0.698648</td>\n",
              "      <td>-0.909743</td>\n",
              "      <td>1.000000</td>\n",
              "      <td>-0.875185</td>\n",
              "      <td>-0.926229</td>\n",
              "    </tr>\n",
              "    <tr>\n",
              "      <th>Fuel Cost/Year</th>\n",
              "      <td>-0.091913</td>\n",
              "      <td>0.778153</td>\n",
              "      <td>0.916208</td>\n",
              "      <td>-0.875185</td>\n",
              "      <td>1.000000</td>\n",
              "      <td>0.930865</td>\n",
              "    </tr>\n",
              "    <tr>\n",
              "      <th>CO2 Emission Grams/Mile</th>\n",
              "      <td>-0.222300</td>\n",
              "      <td>0.752393</td>\n",
              "      <td>0.986189</td>\n",
              "      <td>-0.926229</td>\n",
              "      <td>0.930865</td>\n",
              "      <td>1.000000</td>\n",
              "    </tr>\n",
              "  </tbody>\n",
              "</table>\n",
              "</div>\n",
              "      <button class=\"colab-df-convert\" onclick=\"convertToInteractive('df-384179bd-9e0f-49bf-aefe-9b93ec3bcf67')\"\n",
              "              title=\"Convert this dataframe to an interactive table.\"\n",
              "              style=\"display:none;\">\n",
              "        \n",
              "  <svg xmlns=\"http://www.w3.org/2000/svg\" height=\"24px\"viewBox=\"0 0 24 24\"\n",
              "       width=\"24px\">\n",
              "    <path d=\"M0 0h24v24H0V0z\" fill=\"none\"/>\n",
              "    <path d=\"M18.56 5.44l.94 2.06.94-2.06 2.06-.94-2.06-.94-.94-2.06-.94 2.06-2.06.94zm-11 1L8.5 8.5l.94-2.06 2.06-.94-2.06-.94L8.5 2.5l-.94 2.06-2.06.94zm10 10l.94 2.06.94-2.06 2.06-.94-2.06-.94-.94-2.06-.94 2.06-2.06.94z\"/><path d=\"M17.41 7.96l-1.37-1.37c-.4-.4-.92-.59-1.43-.59-.52 0-1.04.2-1.43.59L10.3 9.45l-7.72 7.72c-.78.78-.78 2.05 0 2.83L4 21.41c.39.39.9.59 1.41.59.51 0 1.02-.2 1.41-.59l7.78-7.78 2.81-2.81c.8-.78.8-2.07 0-2.86zM5.41 20L4 18.59l7.72-7.72 1.47 1.35L5.41 20z\"/>\n",
              "  </svg>\n",
              "      </button>\n",
              "      \n",
              "  <style>\n",
              "    .colab-df-container {\n",
              "      display:flex;\n",
              "      flex-wrap:wrap;\n",
              "      gap: 12px;\n",
              "    }\n",
              "\n",
              "    .colab-df-convert {\n",
              "      background-color: #E8F0FE;\n",
              "      border: none;\n",
              "      border-radius: 50%;\n",
              "      cursor: pointer;\n",
              "      display: none;\n",
              "      fill: #1967D2;\n",
              "      height: 32px;\n",
              "      padding: 0 0 0 0;\n",
              "      width: 32px;\n",
              "    }\n",
              "\n",
              "    .colab-df-convert:hover {\n",
              "      background-color: #E2EBFA;\n",
              "      box-shadow: 0px 1px 2px rgba(60, 64, 67, 0.3), 0px 1px 3px 1px rgba(60, 64, 67, 0.15);\n",
              "      fill: #174EA6;\n",
              "    }\n",
              "\n",
              "    [theme=dark] .colab-df-convert {\n",
              "      background-color: #3B4455;\n",
              "      fill: #D2E3FC;\n",
              "    }\n",
              "\n",
              "    [theme=dark] .colab-df-convert:hover {\n",
              "      background-color: #434B5C;\n",
              "      box-shadow: 0px 1px 3px 1px rgba(0, 0, 0, 0.15);\n",
              "      filter: drop-shadow(0px 1px 2px rgba(0, 0, 0, 0.3));\n",
              "      fill: #FFFFFF;\n",
              "    }\n",
              "  </style>\n",
              "\n",
              "      <script>\n",
              "        const buttonEl =\n",
              "          document.querySelector('#df-384179bd-9e0f-49bf-aefe-9b93ec3bcf67 button.colab-df-convert');\n",
              "        buttonEl.style.display =\n",
              "          google.colab.kernel.accessAllowed ? 'block' : 'none';\n",
              "\n",
              "        async function convertToInteractive(key) {\n",
              "          const element = document.querySelector('#df-384179bd-9e0f-49bf-aefe-9b93ec3bcf67');\n",
              "          const dataTable =\n",
              "            await google.colab.kernel.invokeFunction('convertToInteractive',\n",
              "                                                     [key], {});\n",
              "          if (!dataTable) return;\n",
              "\n",
              "          const docLinkHtml = 'Like what you see? Visit the ' +\n",
              "            '<a target=\"_blank\" href=https://colab.research.google.com/notebooks/data_table.ipynb>data table notebook</a>'\n",
              "            + ' to learn more about interactive tables.';\n",
              "          element.innerHTML = '';\n",
              "          dataTable['output_type'] = 'display_data';\n",
              "          await google.colab.output.renderOutput(dataTable, element);\n",
              "          const docLink = document.createElement('div');\n",
              "          docLink.innerHTML = docLinkHtml;\n",
              "          element.appendChild(docLink);\n",
              "        }\n",
              "      </script>\n",
              "    </div>\n",
              "  </div>\n",
              "  "
            ],
            "text/plain": [
              "                             Year  ...  CO2 Emission Grams/Mile\n",
              "Year                     1.000000  ...                -0.222300\n",
              "Cylinders                0.082469  ...                 0.752393\n",
              "Fuel Barrels/Year       -0.221084  ...                 0.986189\n",
              "Combined MPG             0.204751  ...                -0.926229\n",
              "Fuel Cost/Year          -0.091913  ...                 0.930865\n",
              "CO2 Emission Grams/Mile -0.222300  ...                 1.000000\n",
              "\n",
              "[6 rows x 6 columns]"
            ]
          },
          "metadata": {},
          "execution_count": 25
        }
      ],
      "source": [
        "# Your response here. \n",
        "co2[['Year','Cylinders','Fuel Barrels/Year','Combined MPG','Fuel Cost/Year','CO2 Emission Grams/Mile']].corr()"
      ]
    },
    {
      "cell_type": "markdown",
      "metadata": {
        "id": "U1msJMyMbmYD"
      },
      "source": [
        "Build a regression model for this data. What type of regression are you using? Add your responses as comments after your code."
      ]
    },
    {
      "cell_type": "code",
      "execution_count": 27,
      "metadata": {
        "colab": {
          "base_uri": "https://localhost:8080/"
        },
        "id": "aR_fD3ztbmYD",
        "outputId": "1ee48491-12b2-4f20-e59d-9a83256d33f1"
      },
      "outputs": [
        {
          "output_type": "stream",
          "name": "stderr",
          "text": [
            "/usr/local/lib/python3.7/dist-packages/statsmodels/tsa/tsatools.py:117: FutureWarning: In a future version of pandas all arguments of concat except for the argument 'objs' will be keyword-only\n",
            "  x = pd.concat(x[::order], 1)\n"
          ]
        }
      ],
      "source": [
        "# Your response here. \n",
        "import statsmodels.api as sm\n",
        "\n",
        "X = sm.add_constant(co2[['Year','Cylinders','Fuel Barrels/Year','Combined MPG','Fuel Cost/Year']])\n",
        "y = co2['CO2 Emission Grams/Mile']\n",
        "\n",
        "model = sm.OLS(y, X).fit()"
      ]
    },
    {
      "cell_type": "markdown",
      "metadata": {
        "id": "5zR2uiqFbmYD"
      },
      "source": [
        "Print your regression summary, and interpret the results. What are the most important varibles in your model and why? What can conclusions can you draw from your model and how confident in these conclusions are you? Add your responses as comments after your code."
      ]
    },
    {
      "cell_type": "code",
      "execution_count": 28,
      "metadata": {
        "colab": {
          "base_uri": "https://localhost:8080/"
        },
        "id": "fSxjO1PUbmYD",
        "outputId": "dd006d3d-a7d5-43d8-9b25-0b2224c127d8"
      },
      "outputs": [
        {
          "output_type": "stream",
          "name": "stdout",
          "text": [
            "                               OLS Regression Results                              \n",
            "===================================================================================\n",
            "Dep. Variable:     CO2 Emission Grams/Mile   R-squared:                       0.981\n",
            "Model:                                 OLS   Adj. R-squared:                  0.981\n",
            "Method:                      Least Squares   F-statistic:                 3.687e+05\n",
            "Date:                     Mon, 14 Feb 2022   Prob (F-statistic):               0.00\n",
            "Time:                             04:35:04   Log-Likelihood:            -1.5173e+05\n",
            "No. Observations:                    35952   AIC:                         3.035e+05\n",
            "Df Residuals:                        35946   BIC:                         3.035e+05\n",
            "Df Model:                                5                                         \n",
            "Covariance Type:                 nonrobust                                         \n",
            "=====================================================================================\n",
            "                        coef    std err          t      P>|t|      [0.025      0.975]\n",
            "-------------------------------------------------------------------------------------\n",
            "const               769.8883     19.392     39.702      0.000     731.880     807.897\n",
            "Year                 -0.3206      0.010    -33.060      0.000      -0.340      -0.302\n",
            "Cylinders             1.8788      0.083     22.598      0.000       1.716       2.042\n",
            "Fuel Barrels/Year    19.0529      0.061    311.600      0.000      18.933      19.173\n",
            "Combined MPG         -3.0404      0.042    -71.645      0.000      -3.124      -2.957\n",
            "Fuel Cost/Year        0.0323      0.000     67.025      0.000       0.031       0.033\n",
            "==============================================================================\n",
            "Omnibus:                    71055.645   Durbin-Watson:                   0.747\n",
            "Prob(Omnibus):                  0.000   Jarque-Bera (JB):        246941260.782\n",
            "Skew:                          15.902   Prob(JB):                         0.00\n",
            "Kurtosis:                     407.766   Cond. No.                     6.20e+05\n",
            "==============================================================================\n",
            "\n",
            "Warnings:\n",
            "[1] Standard Errors assume that the covariance matrix of the errors is correctly specified.\n",
            "[2] The condition number is large, 6.2e+05. This might indicate that there are\n",
            "strong multicollinearity or other numerical problems.\n"
          ]
        }
      ],
      "source": [
        "# Your response here. \n",
        "print(model.summary())\n",
        "\n",
        "# The model can explain 98% of the covariance, however it is important to analyze echa variable and avoid strong correlation between them because there is a suggestion of possible strong multicollinearity.  "
      ]
    },
    {
      "cell_type": "markdown",
      "metadata": {
        "id": "5CHl3kDabmYE"
      },
      "source": [
        "## Bonus Challenge: Error Analysis"
      ]
    },
    {
      "cell_type": "markdown",
      "metadata": {
        "id": "4XxG65oMbmYE"
      },
      "source": [
        "I am suspicious about the last few parties I have thrown: it seems that the more people I invite the more people are unable to attend. To know if my hunch is supported by data, I have decided to do an analysis. I have collected my data in the table below, where X is the number of people I invited, and Y is the number of people who attended. \n",
        "\n",
        "|  X |  Y |\n",
        "|----|----|\n",
        "| 1  |  1 |\n",
        "| 3  |  2 |\n",
        "| 4  |  4 |\n",
        "| 6  |  4 |\n",
        "| 8  |  5 |\n",
        "| 9  |  7 |\n",
        "| 11 |  8 |\n",
        "| 14 |  13 |"
      ]
    },
    {
      "cell_type": "markdown",
      "metadata": {
        "id": "p3rMVy91bmYE"
      },
      "source": [
        "We want to know if the relationship modeled by the two random variables is linear or not, and therefore if it is appropriate to model it with a linear regression. \n",
        "First, build a dataframe with the data. "
      ]
    },
    {
      "cell_type": "code",
      "execution_count": 49,
      "metadata": {
        "id": "luSmbVidbmYE"
      },
      "outputs": [],
      "source": [
        "# Your code here. \n",
        "X = [1,3,4,6,8,9,11,14]\n",
        "Y = [1,2,4,4,5,7,8,13]\n",
        "data = pd.DataFrame({'X': X, 'Y': Y})"
      ]
    },
    {
      "cell_type": "markdown",
      "metadata": {
        "id": "e0W-iyHEbmYE"
      },
      "source": [
        "Draw a dispersion diagram (scatter plot) for the data, and fit a regression line."
      ]
    },
    {
      "cell_type": "code",
      "execution_count": 46,
      "metadata": {
        "colab": {
          "base_uri": "https://localhost:8080/",
          "height": 424
        },
        "id": "2JfJMvvYbmYE",
        "outputId": "0bab1502-6ab3-48e7-f8a9-e6e752752d5a"
      },
      "outputs": [
        {
          "output_type": "stream",
          "name": "stderr",
          "text": [
            "/usr/local/lib/python3.7/dist-packages/seaborn/_decorators.py:43: FutureWarning: Pass the following variables as keyword args: x, y. From version 0.12, the only valid positional argument will be `data`, and passing other arguments without an explicit keyword will result in an error or misinterpretation.\n",
            "  FutureWarning\n"
          ]
        },
        {
          "output_type": "display_data",
          "data": {
            "image/png": "[encoded data removed]",
            "text/plain": [
              "<Figure size 360x360 with 1 Axes>"
            ]
          },
          "metadata": {
            "needs_background": "light"
          }
        }
      ],
      "source": [
        "# Your code here.\n",
        "sns.lmplot('X', 'Y', data=data,fit_reg=True);"
      ]
    },
    {
      "cell_type": "markdown",
      "metadata": {
        "id": "zpFmiNSqbmYE"
      },
      "source": [
        "What do you see? What does this plot tell you about the likely relationship between the variables? Print the results from your regression."
      ]
    },
    {
      "cell_type": "code",
      "execution_count": null,
      "metadata": {
        "id": "jD15FAlZbmYE"
      },
      "outputs": [],
      "source": [
        "# Your response here. \n",
        "# There is a strong positive correlation between the variables. "
      ]
    },
    {
      "cell_type": "markdown",
      "metadata": {
        "id": "cROjwiH6bmYE"
      },
      "source": [
        "Do you see any problematic points, or outliers, in your data? Remove these points and recalculate your regression. Print the new dispersion diagram with your new model and the results of your model. "
      ]
    },
    {
      "cell_type": "code",
      "execution_count": 50,
      "metadata": {
        "colab": {
          "base_uri": "https://localhost:8080/",
          "height": 424
        },
        "id": "Kh7hHHLAbmYE",
        "outputId": "c0f2af20-57ee-4e59-e9b3-0f334b2b0662"
      },
      "outputs": [
        {
          "output_type": "stream",
          "name": "stderr",
          "text": [
            "/usr/local/lib/python3.7/dist-packages/seaborn/_decorators.py:43: FutureWarning: Pass the following variables as keyword args: x, y. From version 0.12, the only valid positional argument will be `data`, and passing other arguments without an explicit keyword will result in an error or misinterpretation.\n",
            "  FutureWarning\n"
          ]
        },
        {
          "output_type": "display_data",
          "data": {
            "image/png": "[encoded data removed]",
            "text/plain": [
              "<Figure size 360x360 with 1 Axes>"
            ]
          },
          "metadata": {
            "needs_background": "light"
          }
        }
      ],
      "source": [
        "# Your response here. \n",
        "data.drop(index=[4, 7], inplace=True)\n",
        "sns.lmplot('X', 'Y', data = data,fit_reg=True);"
      ]
    },
    {
      "cell_type": "markdown",
      "metadata": {
        "id": "owlTRWNybmYE"
      },
      "source": [
        "What changed? Based on the results of the two models and your graphs, what can you say about the form of the data with the problematic point and without it?"
      ]
    },
    {
      "cell_type": "code",
      "execution_count": null,
      "metadata": {
        "id": "35mOLg_dbmYE"
      },
      "outputs": [],
      "source": [
        "# Your response here. \n",
        "# Without the ouliers the prediction model can provide better results"
      ]
    }
  ],
  "metadata": {
    "kernelspec": {
      "display_name": "Python 3",
      "language": "python",
      "name": "python3"
    },
    "language_info": {
      "codemirror_mode": {
        "name": "ipython",
        "version": 3
      },
      "file_extension": ".py",
      "mimetype": "text/x-python",
      "name": "python",
      "nbconvert_exporter": "python",
      "pygments_lexer": "ipython3",
      "version": "3.6.8"
    },
    "colab": {
      "name": "your-code.ipynb",
      "provenance": [],
      "collapsed_sections": []
    }
  },
  "nbformat": 4,
  "nbformat_minor": 0
}